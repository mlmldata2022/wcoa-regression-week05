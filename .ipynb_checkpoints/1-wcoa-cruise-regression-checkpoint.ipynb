{
 "cells": [
  {
   "cell_type": "markdown",
   "metadata": {},
   "source": [
    "# 2007 and 2013 West Coast Ocean Acidification cruises"
   ]
  },
  {
   "cell_type": "code",
   "execution_count": 1,
   "metadata": {},
   "outputs": [
    {
     "name": "stderr",
     "output_type": "stream",
     "text": [
      "/Users/tomconnolly/programs/miniconda3/envs/ms263-21/lib/python3.8/site-packages/outdated/utils.py:14: OutdatedPackageWarning: The package pingouin is out of date. Your version is 0.3.8, the latest is 0.3.10.\n",
      "Set the environment variable OUTDATED_IGNORE=1 to disable these warnings.\n",
      "  return warn(\n"
     ]
    }
   ],
   "source": [
    "import numpy as np\n",
    "import pandas as pd\n",
    "import matplotlib.pyplot as plt\n",
    "\n",
    "from scipy import stats\n",
    "import statsmodels.formula.api as smf\n",
    "import pingouin as pg\n",
    "\n",
    "import PyCO2SYS as pyco2"
   ]
  },
  {
   "cell_type": "markdown",
   "metadata": {},
   "source": [
    "## Load data\n",
    "\n",
    "##### Load 2007 data"
   ]
  },
  {
   "cell_type": "code",
   "execution_count": 3,
   "metadata": {},
   "outputs": [],
   "source": [
    "filename07 = 'wcoa_cruise_2007/32WC20070511.exc.csv'\n",
    "df07 = pd.read_csv(filename07,header=29,na_values=-999,parse_dates=[[6,7]])"
   ]
  },
  {
   "cell_type": "code",
   "execution_count": 4,
   "metadata": {},
   "outputs": [
    {
     "data": {
      "text/plain": [
       "Index(['DATE_TIME', 'EXPOCODE', 'SECT_ID', 'SAMPNO', 'LINE', 'STNNBR',\n",
       "       'CASTNO', 'LATITUDE', 'LONGITUDE', 'BOT_DEPTH', 'BTLNBR',\n",
       "       'BTLNBR_FLAG_W', 'CTDPRS', 'CTDTMP', 'CTDSAL', 'CTDSAL_FLAG_W',\n",
       "       'SALNTY', 'SALNTY_FLAG_W', 'CTDOXY', 'CTDOXY_FLAG_W', 'OXYGEN',\n",
       "       'OXYGEN_FLAG_W', 'SILCAT', 'SILCAT_FLAG_W', 'NITRAT', 'NITRAT_FLAG_W',\n",
       "       'NITRIT', 'NITRIT_FLAG_W', 'PHSPHT', 'PHSPHT_FLAG_W', 'TCARBN',\n",
       "       'TCARBN_FLAG_W', 'ALKALI', 'ALKALI_FLAG_W'],\n",
       "      dtype='object')"
      ]
     },
     "execution_count": 4,
     "metadata": {},
     "output_type": "execute_result"
    }
   ],
   "source": [
    "df07.keys()"
   ]
  },
  {
   "cell_type": "markdown",
   "metadata": {},
   "source": [
    "##### Load 2013 data"
   ]
  },
  {
   "cell_type": "code",
   "execution_count": 7,
   "metadata": {},
   "outputs": [],
   "source": [
    "filename13 = 'wcoa_cruise_2013/WCOA2013_hy1.csv'\n",
    "df13 =  pd.read_csv(filename13,header=31,na_values=-999,parse_dates=[[8,9]])"
   ]
  },
  {
   "cell_type": "markdown",
   "metadata": {},
   "source": [
    "## Carbon chemistry\n",
    "\n",
    "Use the PyCO2SYS package to calculate seawater carbon chemistry parameters.\n",
    "\n",
    "https://pyco2sys.readthedocs.io/en/latest/\n",
    "\n",
    "##### 2007 data"
   ]
  },
  {
   "cell_type": "code",
   "execution_count": 9,
   "metadata": {},
   "outputs": [],
   "source": [
    "c07 = pyco2.sys(df07['ALKALI'],df07['TCARBN'], 1, 2,\n",
    "               salinity=df07['CTDSAL'],temperature=df07['CTDTMP'],\n",
    "               pressure=df07['CTDPRS'])"
   ]
  },
  {
   "cell_type": "markdown",
   "metadata": {},
   "source": [
    "##### 2013 data"
   ]
  },
  {
   "cell_type": "code",
   "execution_count": 10,
   "metadata": {},
   "outputs": [],
   "source": [
    "c13 = pyco2.sys(df13['ALKALI'],df13['TCARBN'], 1, 2,\n",
    "               salinity=df13['CTDSAL'],temperature=df13['CTDTMP'],\n",
    "               pressure=df13['CTDPRS'])"
   ]
  },
  {
   "cell_type": "markdown",
   "metadata": {},
   "source": [
    "##### Plot Aragonite saturation state with depth"
   ]
  },
  {
   "cell_type": "code",
   "execution_count": 12,
   "metadata": {},
   "outputs": [
    {
     "data": {
      "text/plain": [
       "Text(0, 0.5, 'pressure [dbar]')"
      ]
     },
     "execution_count": 12,
     "metadata": {},
     "output_type": "execute_result"
    },
    {
     "data": {
      "image/png": "[encoded data removed]",
      "text/plain": [
       "<Figure size 432x288 with 1 Axes>"
      ]
     },
     "metadata": {
      "needs_background": "light"
     },
     "output_type": "display_data"
    }
   ],
   "source": [
    "plt.figure()\n",
    "plt.plot(c07['saturation_aragonite'],df07['CTDPRS'],'.')\n",
    "plt.gca().invert_yaxis()\n",
    "plt.xlabel('$\\Omega_A$')\n",
    "plt.ylabel('pressure [dbar]')"
   ]
  },
  {
   "cell_type": "code",
   "execution_count": 13,
   "metadata": {},
   "outputs": [
    {
     "data": {
      "text/plain": [
       "{'par1': array([2350.1, 2264. , 2240.4, ..., 2281.8, 2276.4, 2265.5]),\n",
       " 'par2': array([   nan,    nan,    nan, ..., 2241.9, 2229.2, 2208. ]),\n",
       " 'par1_type': 1,\n",
       " 'par2_type': 2,\n",
       " 'opt_k_bisulfate': 1,\n",
       " 'opt_k_carbonic': 16,\n",
       " 'opt_k_fluoride': 1,\n",
       " 'opt_total_borate': 1,\n",
       " 'opt_gas_constant': 3,\n",
       " 'opt_pH_scale': 1,\n",
       " 'buffers_mode': 'auto',\n",
       " 'salinity': array([12623.22, 12521.02, 12353.35, ...,    34.46,    34.39,    34.24]),\n",
       " 'temperature': array([ 1.598,  1.729,  1.936, ..., 11.548, 12.256, 12.309]),\n",
       " 'pressure': array([2946.5, 2502.2, 1996.8, ...,  175.6,  150.6,  130.4]),\n",
       " 'total_ammonia': 0.0,\n",
       " 'total_borate': array([149927.78725714, 148713.94325714, 146722.50271429, ...,\n",
       "           409.28634286,    408.45494286,    406.67337143]),\n",
       " 'total_calcium': array([3709268.16969029, 3679237.22616381, 3629968.26039977, ...,\n",
       "          10125.89348261,   10105.32434321,   10061.24761592]),\n",
       " 'total_fluoride': array([24642.63160203, 24443.12015014, 24115.80033469, ...,\n",
       "           67.27166959,    67.13501791,    66.84219288]),\n",
       " 'total_phosphate': 0.0,\n",
       " 'total_silicate': 0.0,\n",
       " 'total_sulfate': array([10183488.48156007, 10101041.01389212,  9965777.14986193, ...,\n",
       "           27799.80172052,    27743.33085226,    27622.32184883]),\n",
       " 'total_sulfide': 0.0,\n",
       " 'peng_correction': 0.0,\n",
       " 'gas_constant': array(83.14462618),\n",
       " 'alkalinity': array([2350.1, 2264. , 2240.4, ..., 2281.8, 2276.4, 2265.5]),\n",
       " 'dic': array([   nan,    nan,    nan, ..., 2241.9, 2229.2, 2208. ]),\n",
       " 'total_alpha': 0.0,\n",
       " 'total_beta': 0.0,\n",
       " 'pH': array([       nan,        nan,        nan, ..., 7.6296644 , 7.64451702,\n",
       "        7.67957323]),\n",
       " 'pCO2': array([          nan,           nan,           nan, ..., 1140.0193842 ,\n",
       "        1100.61417874, 1007.56659713]),\n",
       " 'fCO2': array([          nan,           nan,           nan, ..., 1135.71723266,\n",
       "        1096.49831902, 1003.8012575 ]),\n",
       " 'bicarbonate': array([          nan,           nan,           nan, ..., 2136.27545366,\n",
       "        2122.97550843, 2101.29972132]),\n",
       " 'carbonate': array([        nan,         nan,         nan, ..., 58.09545229,\n",
       "        61.34606534, 65.64997948]),\n",
       " 'aqueous_CO2': array([        nan,         nan,         nan, ..., 47.52909405,\n",
       "        44.87842624, 41.0502992 ]),\n",
       " 'alkalinity_borate': array([        nan,         nan,         nan, ..., 28.63604557,\n",
       "        29.95647812, 32.05430191]),\n",
       " 'hydroxide': array([       nan,        nan,        nan, ..., 0.72150321, 0.79899023,\n",
       "        0.86733328]),\n",
       " 'alkalinity_phosphate': array([nan, nan, nan, ...,  0.,  0.,  0.]),\n",
       " 'alkalinity_silicate': array([nan, nan, nan, ...,  0.,  0.,  0.]),\n",
       " 'alkalinity_ammonia': array([nan, nan, nan, ...,  0.,  0.,  0.]),\n",
       " 'alkalinity_sulfide': array([nan, nan, nan, ...,  0.,  0.,  0.]),\n",
       " 'hydrogen_free': array([       nan,        nan,        nan, ..., 0.02015658, 0.01939266,\n",
       "        0.01788211]),\n",
       " 'revelle_factor': array([        nan,         nan,         nan, ..., 18.02171701,\n",
       "        17.79672823, 17.49685963]),\n",
       " 'saturation_calcite': array([       nan,        nan,        nan, ..., 1.34528322, 1.42813977,\n",
       "        1.53532318]),\n",
       " 'saturation_aragonite': array([       nan,        nan,        nan, ..., 0.8590408 , 0.9127804 ,\n",
       "        0.98089542]),\n",
       " 'xCO2': array([          nan,           nan,           nan, ..., 1155.2349784 ,\n",
       "        1116.01699165, 1021.71835824]),\n",
       " 'pH_total': array([       nan,        nan,        nan, ..., 7.6296644 , 7.64451702,\n",
       "        7.67957323]),\n",
       " 'pH_sws': array([       nan,        nan,        nan, ..., 7.62147439, 7.63624778,\n",
       "        7.67130491]),\n",
       " 'pH_free': array([       nan,        nan,        nan, ..., 7.69558307, 7.71236253,\n",
       "        7.74758128]),\n",
       " 'pH_nbs': array([       nan,        nan,        nan, ..., 7.73862586, 7.75503642,\n",
       "        7.7904411 ]),\n",
       " 'k_CO2': array([1.33398726e-34, 2.53302977e-34, 7.23374147e-34, ...,\n",
       "        4.18494082e-02, 4.09288600e-02, 4.08948474e-02]),\n",
       " 'k_carbonic_1': array([           nan,            nan,            nan, ...,\n",
       "        1.05446778e-06, 1.07248283e-06, 1.07052903e-06]),\n",
       " 'k_carbonic_2': array([           nan,            nan,            nan, ...,\n",
       "        6.37999720e-10, 6.55125811e-10, 6.53391325e-10]),\n",
       " 'k_water': array([           nan,            nan,            nan, ...,\n",
       "        1.69267612e-14, 1.81144208e-14, 1.81389766e-14]),\n",
       " 'k_borate': array([           nan,            nan,            nan, ...,\n",
       "        1.76490963e-09, 1.79436014e-09, 1.78946503e-09]),\n",
       " 'k_bisulfate': array([       nan,        nan,        nan, ..., 0.16960608, 0.1640807 ,\n",
       "        0.16294328]),\n",
       " 'k_fluoride': array([       nan,        nan,        nan, ..., 0.00303607, 0.00298732,\n",
       "        0.00297351]),\n",
       " 'k_phosphoric_1': array([       nan,        nan,        nan, ..., 0.02507356, 0.02501395,\n",
       "        0.02496153]),\n",
       " 'k_phosphoric_2': array([           nan,            nan,            nan, ...,\n",
       "        8.50731590e-07, 8.61190206e-07, 8.59150312e-07]),\n",
       " 'k_phosphoric_3': array([           nan,            nan,            nan, ...,\n",
       "        8.08234705e-10, 8.39032043e-10, 8.41292690e-10]),\n",
       " 'k_silicate': array([           nan,            nan,            nan, ...,\n",
       "        2.39485672e-10, 2.46345234e-10, 2.46152880e-10]),\n",
       " 'k_ammonia': array([           nan,            nan,            nan, ...,\n",
       "        1.94416793e-10, 2.05820826e-10, 2.06454570e-10]),\n",
       " 'k_sulfide': array([           nan,            nan,            nan, ...,\n",
       "        1.87822549e-07, 1.93209858e-07, 1.93388483e-07]),\n",
       " 'k_calcite': array([           inf,            inf,            inf, ...,\n",
       "        4.37282168e-07, 4.34076482e-07, 4.30216067e-07]),\n",
       " 'k_aragonite': array([           inf,            inf,            inf, ...,\n",
       "        6.84796769e-07, 6.79157758e-07, 6.73385443e-07]),\n",
       " 'gamma_dic': array([       nan,        nan,        nan, ..., 0.0001244 , 0.00012526,\n",
       "        0.00012619]),\n",
       " 'beta_dic': array([       nan,        nan,        nan, ..., 0.00013233, 0.0001337 ,\n",
       "        0.00013533]),\n",
       " 'omega_dic': array([        nan,         nan,         nan, ..., -0.00014134,\n",
       "        -0.00014335, -0.0001459 ]),\n",
       " 'gamma_alk': array([        nan,         nan,         nan, ..., -0.00013233,\n",
       "        -0.0001337 , -0.00013533]),\n",
       " 'beta_alk': array([        nan,         nan,         nan, ..., -0.00013295,\n",
       "        -0.00013468, -0.00013684]),\n",
       " 'omega_alk': array([       nan,        nan,        nan, ..., 0.00013358, 0.00013569,\n",
       "        0.00013838]),\n",
       " 'isocapnic_quotient': array([       nan,        nan,        nan, ..., 1.0637385 , 1.06736245,\n",
       "        1.07243411]),\n",
       " 'isocapnic_quotient_approx': array([       nan,        nan,        nan, ..., 1.05686327, 1.06045729,\n",
       "        1.06541263]),\n",
       " 'psi': array([       nan,        nan,        nan, ..., 0.88016134, 0.87377774,\n",
       "        0.86491644]),\n",
       " 'substrate_inhibitor_ratio': array([       nan,        nan,        nan, ..., 0.105984  , 0.10947313,\n",
       "        0.1175085 ]),\n",
       " 'fugacity_factor': array([0.99569947, 0.99570702, 0.9957189 , ..., 0.99622625, 0.9962604 ,\n",
       "        0.99626294]),\n",
       " 'fH': array([8.83592770e+03, 8.66315073e+03, 8.38611123e+03, ...,\n",
       "        7.63569439e-01, 7.60696393e-01, 7.60087874e-01]),\n",
       " 'k_alpha': 1e-07,\n",
       " 'alkalinity_alpha': array([nan, nan, nan, ...,  0.,  0.,  0.]),\n",
       " 'k_beta': 1e-07,\n",
       " 'alkalinity_beta': array([nan, nan, nan, ...,  0.,  0.,  0.]),\n",
       " 'HCO3': array([          nan,           nan,           nan, ..., 2136.27545366,\n",
       "        2122.97550843, 2101.29972132]),\n",
       " 'CO3': array([        nan,         nan,         nan, ..., 58.09545229,\n",
       "        61.34606534, 65.64997948]),\n",
       " 'CO2': array([        nan,         nan,         nan, ..., 47.52909405,\n",
       "        44.87842624, 41.0502992 ]),\n",
       " 'BOH4': array([        nan,         nan,         nan, ..., 28.63604557,\n",
       "        29.95647812, 32.05430191]),\n",
       " 'BOH3': array([         nan,          nan,          nan, ..., 380.65029728,\n",
       "        378.49846473, 374.61906951]),\n",
       " 'OH': array([       nan,        nan,        nan, ..., 0.72150321, 0.79899023,\n",
       "        0.86733328]),\n",
       " 'Hfree': array([       nan,        nan,        nan, ..., 0.02015658, 0.01939266,\n",
       "        0.01788211]),\n",
       " 'H3PO4': array([nan, nan, nan, ...,  0.,  0.,  0.]),\n",
       " 'H2PO4': array([nan, nan, nan, ...,  0.,  0.,  0.]),\n",
       " 'HPO4': array([nan, nan, nan, ...,  0.,  0.,  0.]),\n",
       " 'PO4': array([nan, nan, nan, ...,  0.,  0.,  0.]),\n",
       " 'H3SiO4': array([nan, nan, nan, ...,  0.,  0.,  0.]),\n",
       " 'H4SiO4': array([nan, nan, nan, ...,  0.,  0.,  0.]),\n",
       " 'NH3': array([nan, nan, nan, ...,  0.,  0.,  0.]),\n",
       " 'NH4': array([nan, nan, nan, ...,  0.,  0.,  0.]),\n",
       " 'HS': array([nan, nan, nan, ...,  0.,  0.,  0.]),\n",
       " 'H2S': array([nan, nan, nan, ...,  0.,  0.,  0.]),\n",
       " 'HSO4': array([       nan,        nan,        nan, ..., 0.00330383, 0.00327898,\n",
       "        0.00303139]),\n",
       " 'SO4': array([           nan,            nan,            nan, ...,\n",
       "        27799.7984167 , 27743.32757328, 27622.31881744]),\n",
       " 'HF': array([       nan,        nan,        nan, ..., 0.00044662, 0.00043582,\n",
       "        0.00040197]),\n",
       " 'F': array([        nan,         nan,         nan, ..., 67.27122297,\n",
       "        67.1345821 , 66.84179091]),\n",
       " 'alpha': array([nan, nan, nan, ...,  0.,  0.,  0.]),\n",
       " 'alphaH': array([nan, nan, nan, ...,  0.,  0.,  0.]),\n",
       " 'beta': array([nan, nan, nan, ...,  0.,  0.,  0.]),\n",
       " 'betaH': array([nan, nan, nan, ...,  0.,  0.,  0.])}"
      ]
     },
     "execution_count": 13,
     "metadata": {},
     "output_type": "execute_result"
    }
   ],
   "source": [
    "c07"
   ]
  },
  {
   "cell_type": "markdown",
   "metadata": {
    "jupyter": {
     "source_hidden": true
    }
   },
   "source": [
    "##### Exercise\n",
    "\n",
    "Make exploratory plots comparing data from the two cruises. Do you notice any difference in the patterns of water properties?"
   ]
  },
  {
   "cell_type": "code",
   "execution_count": null,
   "metadata": {},
   "outputs": [],
   "source": []
  },
  {
   "cell_type": "markdown",
   "metadata": {},
   "source": [
    "### Linear regression: four methods in Python"
   ]
  },
  {
   "cell_type": "markdown",
   "metadata": {},
   "source": [
    "Create $x$ and $y$ variables."
   ]
  },
  {
   "cell_type": "code",
   "execution_count": 15,
   "metadata": {},
   "outputs": [],
   "source": [
    "x = df07['PHSPHT']\n",
    "y = df07['NITRAT']"
   ]
  },
  {
   "cell_type": "markdown",
   "metadata": {},
   "source": [
    "Plot data."
   ]
  },
  {
   "cell_type": "code",
   "execution_count": 17,
   "metadata": {},
   "outputs": [
    {
     "data": {
      "text/plain": [
       "Text(0, 0.5, 'nitrate')"
      ]
     },
     "execution_count": 17,
     "metadata": {},
     "output_type": "execute_result"
    },
    {
     "data": {
      "image/png": "[encoded data removed]",
      "text/plain": [
       "<Figure size 432x288 with 1 Axes>"
      ]
     },
     "metadata": {
      "needs_background": "light"
     },
     "output_type": "display_data"
    }
   ],
   "source": [
    "plt.figure()\n",
    "plt.plot(x,y,'.')\n",
    "plt.xlabel('phosphate')\n",
    "plt.ylabel('nitrate')"
   ]
  },
  {
   "cell_type": "markdown",
   "metadata": {},
   "source": [
    "##### Exercise\n",
    "\n",
    "Create a subset where both variables have finite values."
   ]
  },
  {
   "cell_type": "code",
   "execution_count": 18,
   "metadata": {},
   "outputs": [],
   "source": [
    "ii = np.isfinite(x+y)"
   ]
  },
  {
   "cell_type": "code",
   "execution_count": 19,
   "metadata": {},
   "outputs": [
    {
     "data": {
      "text/plain": [
       "0       True\n",
       "1       True\n",
       "2       True\n",
       "3       True\n",
       "4       True\n",
       "        ... \n",
       "2343    True\n",
       "2344    True\n",
       "2345    True\n",
       "2346    True\n",
       "2347    True\n",
       "Length: 2348, dtype: bool"
      ]
     },
     "execution_count": 19,
     "metadata": {},
     "output_type": "execute_result"
    }
   ],
   "source": [
    "ii"
   ]
  },
  {
   "cell_type": "markdown",
   "metadata": {},
   "source": [
    "#### Method 1: Numpy"
   ]
  },
  {
   "cell_type": "markdown",
   "metadata": {},
   "source": [
    "Coefficients (slope and intercept)"
   ]
  },
  {
   "cell_type": "code",
   "execution_count": 20,
   "metadata": {},
   "outputs": [],
   "source": [
    "p = np.polyfit(x[ii],y[ii],1)"
   ]
  },
  {
   "cell_type": "markdown",
   "metadata": {},
   "source": [
    "Calculate model values"
   ]
  },
  {
   "cell_type": "code",
   "execution_count": 21,
   "metadata": {},
   "outputs": [
    {
     "data": {
      "text/plain": [
       "array([14.74003452, -3.93257206])"
      ]
     },
     "execution_count": 21,
     "metadata": {},
     "output_type": "execute_result"
    }
   ],
   "source": [
    "p"
   ]
  },
  {
   "cell_type": "markdown",
   "metadata": {},
   "source": [
    "Draw regression line"
   ]
  },
  {
   "cell_type": "code",
   "execution_count": 22,
   "metadata": {},
   "outputs": [
    {
     "data": {
      "text/plain": [
       "[<matplotlib.lines.Line2D at 0x15ee97ac0>]"
      ]
     },
     "execution_count": 22,
     "metadata": {},
     "output_type": "execute_result"
    },
    {
     "data": {
      "image/png": "[encoded data removed]",
      "text/plain": [
       "<Figure size 432x288 with 1 Axes>"
      ]
     },
     "metadata": {
      "needs_background": "light"
     },
     "output_type": "display_data"
    }
   ],
   "source": [
    "plt.figure()\n",
    "plt.plot(x,y,'k.')\n",
    "plt.plot(x,p[0]*x+p[1],'r-')"
   ]
  },
  {
   "cell_type": "markdown",
   "metadata": {},
   "source": [
    "#### Method 2: Scipy"
   ]
  },
  {
   "cell_type": "code",
   "execution_count": 23,
   "metadata": {},
   "outputs": [],
   "source": [
    "result = stats.linregress(x[ii],y[ii])"
   ]
  },
  {
   "cell_type": "code",
   "execution_count": 24,
   "metadata": {},
   "outputs": [
    {
     "data": {
      "text/plain": [
       "LinregressResult(slope=14.740034517902107, intercept=-3.9325720551997954, rvalue=0.9860645445968036, pvalue=0.0, stderr=0.05292378356970245, intercept_stderr=0.10258209230911518)"
      ]
     },
     "execution_count": 24,
     "metadata": {},
     "output_type": "execute_result"
    }
   ],
   "source": [
    "result"
   ]
  },
  {
   "cell_type": "code",
   "execution_count": 25,
   "metadata": {},
   "outputs": [
    {
     "data": {
      "text/plain": [
       "14.740034517902107"
      ]
     },
     "execution_count": 25,
     "metadata": {},
     "output_type": "execute_result"
    }
   ],
   "source": [
    "result.slope"
   ]
  },
  {
   "cell_type": "markdown",
   "metadata": {},
   "source": [
    "#### Method 3: statsmodels"
   ]
  },
  {
   "cell_type": "markdown",
   "metadata": {},
   "source": [
    "Ordinary least squares fit using [statsmodels](https://www.statsmodels.org/)."
   ]
  },
  {
   "cell_type": "code",
   "execution_count": 26,
   "metadata": {},
   "outputs": [],
   "source": [
    "smres = smf.ols('NITRAT ~ PHSPHT',df07).fit()"
   ]
  },
  {
   "cell_type": "code",
   "execution_count": 27,
   "metadata": {},
   "outputs": [
    {
     "data": {
      "text/html": [
       "<table class=\"simpletable\">\n",
       "<caption>OLS Regression Results</caption>\n",
       "<tr>\n",
       "  <th>Dep. Variable:</th>         <td>NITRAT</td>      <th>  R-squared:         </th> <td>   0.972</td> \n",
       "</tr>\n",
       "<tr>\n",
       "  <th>Model:</th>                   <td>OLS</td>       <th>  Adj. R-squared:    </th> <td>   0.972</td> \n",
       "</tr>\n",
       "<tr>\n",
       "  <th>Method:</th>             <td>Least Squares</td>  <th>  F-statistic:       </th> <td>7.757e+04</td>\n",
       "</tr>\n",
       "<tr>\n",
       "  <th>Date:</th>             <td>Tue, 09 Mar 2021</td> <th>  Prob (F-statistic):</th>  <td>  0.00</td>  \n",
       "</tr>\n",
       "<tr>\n",
       "  <th>Time:</th>                 <td>11:12:04</td>     <th>  Log-Likelihood:    </th> <td> -4993.9</td> \n",
       "</tr>\n",
       "<tr>\n",
       "  <th>No. Observations:</th>      <td>  2210</td>      <th>  AIC:               </th> <td>   9992.</td> \n",
       "</tr>\n",
       "<tr>\n",
       "  <th>Df Residuals:</th>          <td>  2208</td>      <th>  BIC:               </th> <td>1.000e+04</td>\n",
       "</tr>\n",
       "<tr>\n",
       "  <th>Df Model:</th>              <td>     1</td>      <th>                     </th>     <td> </td>    \n",
       "</tr>\n",
       "<tr>\n",
       "  <th>Covariance Type:</th>      <td>nonrobust</td>    <th>                     </th>     <td> </td>    \n",
       "</tr>\n",
       "</table>\n",
       "<table class=\"simpletable\">\n",
       "<tr>\n",
       "      <td></td>         <th>coef</th>     <th>std err</th>      <th>t</th>      <th>P>|t|</th>  <th>[0.025</th>    <th>0.975]</th>  \n",
       "</tr>\n",
       "<tr>\n",
       "  <th>Intercept</th> <td>   -3.9326</td> <td>    0.103</td> <td>  -38.336</td> <td> 0.000</td> <td>   -4.134</td> <td>   -3.731</td>\n",
       "</tr>\n",
       "<tr>\n",
       "  <th>PHSPHT</th>    <td>   14.7400</td> <td>    0.053</td> <td>  278.514</td> <td> 0.000</td> <td>   14.636</td> <td>   14.844</td>\n",
       "</tr>\n",
       "</table>\n",
       "<table class=\"simpletable\">\n",
       "<tr>\n",
       "  <th>Omnibus:</th>       <td>874.728</td> <th>  Durbin-Watson:     </th> <td>   0.269</td>\n",
       "</tr>\n",
       "<tr>\n",
       "  <th>Prob(Omnibus):</th> <td> 0.000</td>  <th>  Jarque-Bera (JB):  </th> <td>5147.310</td>\n",
       "</tr>\n",
       "<tr>\n",
       "  <th>Skew:</th>          <td>-1.766</td>  <th>  Prob(JB):          </th> <td>    0.00</td>\n",
       "</tr>\n",
       "<tr>\n",
       "  <th>Kurtosis:</th>      <td> 9.589</td>  <th>  Cond. No.          </th> <td>    4.90</td>\n",
       "</tr>\n",
       "</table><br/><br/>Notes:<br/>[1] Standard Errors assume that the covariance matrix of the errors is correctly specified."
      ],
      "text/plain": [
       "<class 'statsmodels.iolib.summary.Summary'>\n",
       "\"\"\"\n",
       "                            OLS Regression Results                            \n",
       "==============================================================================\n",
       "Dep. Variable:                 NITRAT   R-squared:                       0.972\n",
       "Model:                            OLS   Adj. R-squared:                  0.972\n",
       "Method:                 Least Squares   F-statistic:                 7.757e+04\n",
       "Date:                Tue, 09 Mar 2021   Prob (F-statistic):               0.00\n",
       "Time:                        11:12:04   Log-Likelihood:                -4993.9\n",
       "No. Observations:                2210   AIC:                             9992.\n",
       "Df Residuals:                    2208   BIC:                         1.000e+04\n",
       "Df Model:                           1                                         \n",
       "Covariance Type:            nonrobust                                         \n",
       "==============================================================================\n",
       "                 coef    std err          t      P>|t|      [0.025      0.975]\n",
       "------------------------------------------------------------------------------\n",
       "Intercept     -3.9326      0.103    -38.336      0.000      -4.134      -3.731\n",
       "PHSPHT        14.7400      0.053    278.514      0.000      14.636      14.844\n",
       "==============================================================================\n",
       "Omnibus:                      874.728   Durbin-Watson:                   0.269\n",
       "Prob(Omnibus):                  0.000   Jarque-Bera (JB):             5147.310\n",
       "Skew:                          -1.766   Prob(JB):                         0.00\n",
       "Kurtosis:                       9.589   Cond. No.                         4.90\n",
       "==============================================================================\n",
       "\n",
       "Notes:\n",
       "[1] Standard Errors assume that the covariance matrix of the errors is correctly specified.\n",
       "\"\"\""
      ]
     },
     "execution_count": 27,
     "metadata": {},
     "output_type": "execute_result"
    }
   ],
   "source": [
    "smres.summary()"
   ]
  },
  {
   "cell_type": "code",
   "execution_count": null,
   "metadata": {},
   "outputs": [],
   "source": []
  },
  {
   "cell_type": "markdown",
   "metadata": {},
   "source": [
    "#### Method 4: pingouin"
   ]
  },
  {
   "cell_type": "code",
   "execution_count": 28,
   "metadata": {},
   "outputs": [
    {
     "data": {
      "text/html": [
       "<div>\n",
       "<style scoped>\n",
       "    .dataframe tbody tr th:only-of-type {\n",
       "        vertical-align: middle;\n",
       "    }\n",
       "\n",
       "    .dataframe tbody tr th {\n",
       "        vertical-align: top;\n",
       "    }\n",
       "\n",
       "    .dataframe thead th {\n",
       "        text-align: right;\n",
       "    }\n",
       "</style>\n",
       "<table border=\"1\" class=\"dataframe\">\n",
       "  <thead>\n",
       "    <tr style=\"text-align: right;\">\n",
       "      <th></th>\n",
       "      <th>names</th>\n",
       "      <th>coef</th>\n",
       "      <th>se</th>\n",
       "      <th>T</th>\n",
       "      <th>pval</th>\n",
       "      <th>r2</th>\n",
       "      <th>adj_r2</th>\n",
       "      <th>CI[2.5%]</th>\n",
       "      <th>CI[97.5%]</th>\n",
       "    </tr>\n",
       "  </thead>\n",
       "  <tbody>\n",
       "    <tr>\n",
       "      <th>0</th>\n",
       "      <td>Intercept</td>\n",
       "      <td>-3.932572</td>\n",
       "      <td>0.102582</td>\n",
       "      <td>-38.335853</td>\n",
       "      <td>6.540950e-247</td>\n",
       "      <td>0.972323</td>\n",
       "      <td>0.972311</td>\n",
       "      <td>-4.133740</td>\n",
       "      <td>-3.731405</td>\n",
       "    </tr>\n",
       "    <tr>\n",
       "      <th>1</th>\n",
       "      <td>PHSPHT</td>\n",
       "      <td>14.740035</td>\n",
       "      <td>0.052924</td>\n",
       "      <td>278.514375</td>\n",
       "      <td>0.000000e+00</td>\n",
       "      <td>0.972323</td>\n",
       "      <td>0.972311</td>\n",
       "      <td>14.636249</td>\n",
       "      <td>14.843820</td>\n",
       "    </tr>\n",
       "  </tbody>\n",
       "</table>\n",
       "</div>"
      ],
      "text/plain": [
       "       names       coef        se           T           pval        r2  \\\n",
       "0  Intercept  -3.932572  0.102582  -38.335853  6.540950e-247  0.972323   \n",
       "1     PHSPHT  14.740035  0.052924  278.514375   0.000000e+00  0.972323   \n",
       "\n",
       "     adj_r2   CI[2.5%]  CI[97.5%]  \n",
       "0  0.972311  -4.133740  -3.731405  \n",
       "1  0.972311  14.636249  14.843820  "
      ]
     },
     "execution_count": 28,
     "metadata": {},
     "output_type": "execute_result"
    }
   ],
   "source": [
    "pg.linear_regression(x[ii],y[ii])"
   ]
  },
  {
   "cell_type": "code",
   "execution_count": null,
   "metadata": {},
   "outputs": [],
   "source": []
  }
 ],
 "metadata": {
  "kernelspec": {
   "display_name": "Python 3.8 (ms263-21)",
   "language": "python",
   "name": "ms263-21"
  },
  "language_info": {
   "codemirror_mode": {
    "name": "ipython",
    "version": 3
   },
   "file_extension": ".py",
   "mimetype": "text/x-python",
   "name": "python",
   "nbconvert_exporter": "python",
   "pygments_lexer": "ipython3",
   "version": "3.8.6"
  }
 },
 "nbformat": 4,
 "nbformat_minor": 4
}
