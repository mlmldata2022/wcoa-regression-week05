{
 "cells": [
  {
   "cell_type": "markdown",
   "metadata": {},
   "source": [
    "### Geometric mean regression workbook"
   ]
  },
  {
   "cell_type": "code",
   "execution_count": 4,
   "metadata": {
    "tags": []
   },
   "outputs": [],
   "source": [
    "import numpy as np\n",
    "import matplotlib.pyplot as plt\n",
    "import pandas as pd\n",
    "\n",
    "from scipy import stats\n",
    "import statsmodels.api as sm\n",
    "import statsmodels.formula.api as smf\n",
    "\n",
    "import PyCO2SYS as pyco2"
   ]
  },
  {
   "cell_type": "markdown",
   "metadata": {},
   "source": [
    "Load 2007 data"
   ]
  },
  {
   "cell_type": "code",
   "execution_count": 5,
   "metadata": {},
   "outputs": [],
   "source": [
    "filename07 = 'wcoa_cruise_2007/32WC20070511.exc.csv'\n",
    "df07 = pd.read_csv(filename07,header=29,na_values=-999,parse_dates=[[6,7]])"
   ]
  },
  {
   "cell_type": "markdown",
   "metadata": {},
   "source": [
    "### Geometric mean regression"
   ]
  },
  {
   "cell_type": "markdown",
   "metadata": {},
   "source": [
    "For explanation of the algorithm, see equations 3.27 and 3.28 on page 62 of Glover, Jenkins and Doney."
   ]
  },
  {
   "cell_type": "code",
   "execution_count": 8,
   "metadata": {},
   "outputs": [],
   "source": [
    "# select subset of good data\n",
    "ii = ((df07['CTDPRS'] >= 30) & (df07['CTDPRS'] <= 300) & \n",
    "      (df07['NITRAT_FLAG_W'] == 2) & (df07['PHSPHT_FLAG_W'] == 2)\n",
    "      & (df07['CTDOXY_FLAG_W'] == 2) & (df07['CTDSAL_FLAG_W'] == 2)\n",
    "      & (df07['TCARBN_FLAG_W'] == 2) & (df07['ALKALI_FLAG_W'] == 2))"
   ]
  },
  {
   "cell_type": "markdown",
   "metadata": {},
   "source": [
    "##### Least-squares regression of oxygen on nitrate"
   ]
  },
  {
   "cell_type": "code",
   "execution_count": null,
   "metadata": {},
   "outputs": [],
   "source": []
  },
  {
   "cell_type": "markdown",
   "metadata": {},
   "source": [
    "##### Least-squares regression of nitrate on oxygen"
   ]
  },
  {
   "cell_type": "code",
   "execution_count": null,
   "metadata": {},
   "outputs": [],
   "source": []
  },
  {
   "cell_type": "markdown",
   "metadata": {},
   "source": [
    "##### Plot Type 1 regression lines"
   ]
  },
  {
   "cell_type": "code",
   "execution_count": null,
   "metadata": {},
   "outputs": [],
   "source": []
  },
  {
   "cell_type": "markdown",
   "metadata": {},
   "source": [
    "a. Exercise: Calculate the Type II geometric mean regression slope."
   ]
  },
  {
   "cell_type": "code",
   "execution_count": 3,
   "metadata": {},
   "outputs": [],
   "source": [
    "# insert code here"
   ]
  },
  {
   "cell_type": "markdown",
   "metadata": {},
   "source": [
    "b. Exercise: Calculate the intercept for the Type II geometric mean regression line. "
   ]
  },
  {
   "cell_type": "code",
   "execution_count": 1,
   "metadata": {},
   "outputs": [],
   "source": [
    "# insert code here"
   ]
  },
  {
   "cell_type": "markdown",
   "metadata": {},
   "source": [
    "c. Exercise: Create a function that calculates the geometric mean regression slope and intercept for any two variables. Include a descriptive doc-string that describes what the function does."
   ]
  },
  {
   "cell_type": "code",
   "execution_count": 2,
   "metadata": {},
   "outputs": [],
   "source": [
    "def gmregress(x,y):\n",
    "    '''\n",
    "    Insert doc-string here\n",
    "    '''\n",
    "    # insert code here\n",
    "    return slope,intercept"
   ]
  },
  {
   "cell_type": "markdown",
   "metadata": {},
   "source": [
    "d. Exercise Test your function by applying it to the same oxygen and nitrate data used above."
   ]
  },
  {
   "cell_type": "code",
   "execution_count": 12,
   "metadata": {},
   "outputs": [],
   "source": [
    "# insert code here"
   ]
  },
  {
   "cell_type": "markdown",
   "metadata": {},
   "source": [
    "a. Plot dissolved oxygen vs. aragonite saturation state ($\\Omega_A$) for all samples collected during the 2007 West Coast Ocean Acidification Cruise."
   ]
  },
  {
   "cell_type": "code",
   "execution_count": null,
   "metadata": {},
   "outputs": [],
   "source": [
    "# insert code here"
   ]
  },
  {
   "cell_type": "markdown",
   "metadata": {},
   "source": [
    "b. On the same set of axes, plot dissolved oxygen vs. aragonite saturation state ($\\Omega_A$) for the subset of samples collected at pressures between 30-300 dbar during the 2007 West Coast Ocean Acidification Cruise."
   ]
  },
  {
   "cell_type": "code",
   "execution_count": null,
   "metadata": {},
   "outputs": [],
   "source": [
    "# insert code here"
   ]
  },
  {
   "cell_type": "markdown",
   "metadata": {},
   "source": [
    "c. Calculate the slope and intercept of the Type 1 linear regression between dissolved oxygen vs. aragonite saturation state ($\\Omega_A$) for the subset of samples collected at pressures between 30-300 dbar during the 2007 West Coast Ocean Acidification Cruise. Plot the regression line with the data."
   ]
  },
  {
   "cell_type": "code",
   "execution_count": null,
   "metadata": {},
   "outputs": [],
   "source": [
    "# insert code here"
   ]
  },
  {
   "cell_type": "markdown",
   "metadata": {},
   "source": [
    "d. Create a function that calculates confidence intervals for the slope of the regression line, given the data values and significance level."
   ]
  },
  {
   "cell_type": "code",
   "execution_count": 1,
   "metadata": {},
   "outputs": [],
   "source": [
    "def slope_ci(x,y,alpha=0.05):\n",
    "    ''' Compute the confidence intervals for the slope of the \n",
    "    Type I regression between x and y.\n",
    "    \n",
    "    INPUTS:\n",
    "    x - independent variable values\n",
    "    y - dependent variable values (must be same length as x)\n",
    "    alpha - significance level (default 0.05 for 95% confidence)\n",
    "    \n",
    "    OUTPUT:\n",
    "    slope_lower,slope_upper - bounds of confidence interval\n",
    "    '''\n",
    "    \n",
    "    # Insert code here\n",
    "\n",
    "    return slope_lower,slope_upper"
   ]
  },
  {
   "cell_type": "markdown",
   "metadata": {},
   "source": [
    "e. Use the above function to calculate 95% confidence intervals for the slope of the linear regression calculated in part c."
   ]
  },
  {
   "cell_type": "code",
   "execution_count": 2,
   "metadata": {},
   "outputs": [],
   "source": [
    "# insert code here"
   ]
  },
  {
   "cell_type": "markdown",
   "metadata": {},
   "source": [
    "f. For the linear model created in part c, plot the model residuals (or errors) as a function of observed aragonite saturation state. See Figure 1d of Juranek et al. (2009) for an example of this type of plot."
   ]
  },
  {
   "cell_type": "code",
   "execution_count": 5,
   "metadata": {},
   "outputs": [],
   "source": [
    "# insert code here"
   ]
  },
  {
   "cell_type": "markdown",
   "metadata": {},
   "source": [
    "g. Create a function called `rcrit` that calculates the critical correlation coefficient $r$ for statistical significance, given the degrees of freedom and significance level alpha. Use this function to calculate the critical correlation coefficient for the linear aragonite saturation state model obtained in part c."
   ]
  },
  {
   "cell_type": "code",
   "execution_count": 7,
   "metadata": {},
   "outputs": [],
   "source": [
    "def rcrit(nu,alpha=0.05):\n",
    "    \"\"\"\n",
    "    Critical r (correlation coefficient), given significance level\n",
    "    and degrees of freedom.\n",
    "    \n",
    "    INPUTS:\n",
    "    nu - degrees of freedom (N-2)        \n",
    "    alpha - significance level (default 0.05 for 95% confidence)\n",
    "    \n",
    "    OUTPUT:\n",
    "    rcrit - critical r value\n",
    "    \n",
    "    Values for 0.05 and 0.01 correspond with Appendix E in\n",
    "    Emery and Thomson (2004) Data Analysis Methods in Physical \n",
    "    Oceanography\n",
    "    \"\"\"\n",
    "\n",
    "    # Insert code here.\n",
    "\n",
    "    return rcrit"
   ]
  },
  {
   "cell_type": "code",
   "execution_count": 2,
   "metadata": {},
   "outputs": [],
   "source": [
    "# use the rcrit function here"
   ]
  },
  {
   "cell_type": "markdown",
   "metadata": {},
   "source": [
    "h. Based on the plots and calculations made above. Summarize the applicability of the linear regression model for aragonite saturation state based on dissolved oxygen concentration only. Comment on the quality of the fit, the magnitude of the expected errors and the potential for systematic bias."
   ]
  },
  {
   "cell_type": "markdown",
   "metadata": {},
   "source": [
    "*(insert answer here)*"
   ]
  }
 ],
 "metadata": {
  "anaconda-cloud": {},
  "kernelspec": {
   "display_name": "Python 3 (ipykernel)",
   "language": "python",
   "name": "python3"
  },
  "language_info": {
   "codemirror_mode": {
    "name": "ipython",
    "version": 3
   },
   "file_extension": ".py",
   "mimetype": "text/x-python",
   "name": "python",
   "nbconvert_exporter": "python",
   "pygments_lexer": "ipython3",
   "version": "3.8.12"
  }
 },
 "nbformat": 4,
 "nbformat_minor": 4
}
